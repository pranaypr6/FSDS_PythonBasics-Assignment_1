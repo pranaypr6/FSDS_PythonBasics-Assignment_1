{
 "cells": [
  {
   "cell_type": "code",
   "execution_count": null,
   "metadata": {},
   "outputs": [],
   "source": [
    "'''\n",
    "1. In the below elements which of them are values or an expression? eg:- values can be\n",
    "integer or string and expressions will be mathematical operators.\n",
    "*\n",
    "&\n",
    "'hello'\n",
    "-87.8\n",
    "-\n",
    "/\n",
    "+\n",
    "6\n",
    "\n",
    "Answer : \n",
    "Expressions : *  -  /  + \n",
    "Values : -87.8  'hello'  6\n",
    "\n",
    "'''"
   ]
  },
  {
   "cell_type": "code",
   "execution_count": null,
   "metadata": {},
   "outputs": [],
   "source": [
    "'''2 . What is the difference between string and variable?\n",
    "\n",
    "Answer : \n",
    "\n",
    "A String is a datatype which contains a sequence of characters whereas variable is a container which stores the data of any datatypes like string, integer etc. \n",
    "\n",
    "'''\n"
   ]
  },
  {
   "cell_type": "code",
   "execution_count": null,
   "metadata": {},
   "outputs": [],
   "source": [
    "'''3. Describe three different data types.\n",
    "\n",
    "Answer : \n",
    "\n",
    "Integer, float : Integers are both negative and positive integers and have no limit like any other languages float datatype allows decimal points to store within it \n",
    "string : string is a sequence of one or more characters and they are enclosed within single or double quotes \n",
    "boolean : boolean databype allows only two values True or False which are builtin values\n",
    "\n",
    "'''"
   ]
  },
  {
   "cell_type": "code",
   "execution_count": null,
   "metadata": {},
   "outputs": [],
   "source": [
    "'''\n",
    "4.What is an expression made up of? What do all expressions do?\n",
    "\n",
    "Answer :\n",
    "\n",
    "An Expression is made up of operators like + - * / and aperands variables of type number to produce some results.\n",
    "Expressions always represents some value\n",
    "\n",
    "'''\n"
   ]
  },
  {
   "cell_type": "code",
   "execution_count": null,
   "metadata": {},
   "outputs": [],
   "source": [
    "'''\n",
    "5. This assignment statements, like spam = 10. What is the difference between an\n",
    "expression and a statement?\n",
    "\n",
    "Answer :\n",
    "    \n",
    "Statements like spam = 10 do some task like assigning or printing but expressions are combination of operators operands and values which produces some result\n",
    "\n",
    "'''"
   ]
  },
  {
   "cell_type": "code",
   "execution_count": null,
   "metadata": {},
   "outputs": [],
   "source": [
    "'''\n",
    "6. After running the following code, what does the variable bacon contain?\n",
    "bacon = 22\n",
    "bacon + 1\n",
    "\n",
    "Answer : \n",
    "    \n",
    "The variable bacon contains 22 only because 1 is added to bacon's value but it is not assigned to bacon. so bacon variable remains same\n",
    "\n",
    "'''"
   ]
  },
  {
   "cell_type": "code",
   "execution_count": null,
   "metadata": {},
   "outputs": [],
   "source": [
    "'''\n",
    "7. What should the values of the following two terms be?\n",
    "'spam'+'spamspam'\n",
    "'spam'*3\n",
    "\n",
    "Answer :\n",
    "\n",
    "1.'spamspamspam'\n",
    "2. 'spamspamspam'\n",
    "\n",
    "Both values are same\n",
    "\n",
    "'''"
   ]
  },
  {
   "cell_type": "code",
   "execution_count": null,
   "metadata": {},
   "outputs": [],
   "source": [
    "'''\n",
    "8. Why is eggs a valid variable name while 100 is invalid?\n",
    "\n",
    "Answer :\n",
    "\n",
    "Because variable names must start with a letter or underscore only, should not start with numbers\n",
    "\n",
    "\n",
    "'''"
   ]
  }
 ],
 "metadata": {
  "kernelspec": {
   "display_name": "Python 3",
   "language": "python",
   "name": "python3"
  },
  "language_info": {
   "codemirror_mode": {
    "name": "ipython",
    "version": 3
   },
   "file_extension": ".py",
   "mimetype": "text/x-python",
   "name": "python",
   "nbconvert_exporter": "python",
   "pygments_lexer": "ipython3",
   "version": "3.8.5"
  }
 },
 "nbformat": 4,
 "nbformat_minor": 4
}
